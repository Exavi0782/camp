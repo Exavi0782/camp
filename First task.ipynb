{
 "cells": [
  {
   "cell_type": "code",
   "execution_count": 3,
   "id": "d37a0819-ba10-4590-98a8-57dbc303b58f",
   "metadata": {},
   "outputs": [
    {
     "name": "stdout",
     "output_type": "stream",
     "text": [
      "778\n"
     ]
    }
   ],
   "source": [
    "### Task 1\n",
    "import random as rd\n",
    "\n",
    "count = 0\n",
    "for try_ in range(1000):\n",
    "    x = rd.random()*2-1\n",
    "    y = rd.random()*2-1\n",
    "    if x**2 + y**2 < 1:\n",
    "        count += 1\n",
    "print(count)"
   ]
  },
  {
   "cell_type": "code",
   "execution_count": 2,
   "id": "a9e070b4-77fb-4558-93d0-4bea355fb3ea",
   "metadata": {},
   "outputs": [
    {
     "name": "stdout",
     "output_type": "stream",
     "text": [
      "False\n"
     ]
    }
   ],
   "source": [
    "### Task 2\n",
    "import random as rand\n",
    "\n",
    "def sum(a, b):\n",
    "    sum = a + b\n",
    "    return sum\n",
    "\n",
    "def prod(a, b):\n",
    "    prod = a * b\n",
    "    return prod\n",
    "\n",
    "a0 = rand.randint(0, 20)\n",
    "b0 = rand.randint(0, 20)\n",
    "a1 = rand.randint(0, 20)\n",
    "b1 = rand.randint(0, 20)\n",
    "\n",
    "if sum(a0, b0) == prod(a1, b1) and a0 == a1 and b0 == b1:\n",
    "    print(\"True\")\n",
    "else:\n",
    "    print(\"False\")    \n"
   ]
  },
  {
   "cell_type": "code",
   "execution_count": null,
   "id": "8061342d-3e62-4642-84d1-4265aabc2515",
   "metadata": {},
   "outputs": [],
   "source": []
  }
 ],
 "metadata": {
  "kernelspec": {
   "display_name": "Python 3 (ipykernel)",
   "language": "python",
   "name": "python3"
  },
  "language_info": {
   "codemirror_mode": {
    "name": "ipython",
    "version": 3
   },
   "file_extension": ".py",
   "mimetype": "text/x-python",
   "name": "python",
   "nbconvert_exporter": "python",
   "pygments_lexer": "ipython3",
   "version": "3.10.6"
  }
 },
 "nbformat": 4,
 "nbformat_minor": 5
}
