{
 "cells": [
  {
   "cell_type": "code",
   "execution_count": 2,
   "id": "4feadef3-e03c-4f41-adeb-b4685ea9af0e",
   "metadata": {},
   "outputs": [
    {
     "name": "stdout",
     "output_type": "stream",
     "text": [
      "778\n"
     ]
    }
   ],
   "source": [
    "import random as rd\n",
    "\n",
    "count = 0\n",
    "for try_ in range(1000):\n",
    "    x = rd.random()*2-1\n",
    "    y = rd.random()*2-1\n",
    "    if x**2 + y**2 < 1:\n",
    "        count += 1\n",
    "print(count)"
   ]
  },
  {
   "cell_type": "code",
   "execution_count": null,
   "id": "b11fb9bb-2ed3-4d7d-afc3-13e3a7a1ce8e",
   "metadata": {},
   "outputs": [],
   "source": []
  }
 ],
 "metadata": {
  "kernelspec": {
   "display_name": "Python 3 (ipykernel)",
   "language": "python",
   "name": "python3"
  },
  "language_info": {
   "codemirror_mode": {
    "name": "ipython",
    "version": 3
   },
   "file_extension": ".py",
   "mimetype": "text/x-python",
   "name": "python",
   "nbconvert_exporter": "python",
   "pygments_lexer": "ipython3",
   "version": "3.10.6"
  }
 },
 "nbformat": 4,
 "nbformat_minor": 5
}
